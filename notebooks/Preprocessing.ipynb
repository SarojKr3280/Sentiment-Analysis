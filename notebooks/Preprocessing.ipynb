{
 "cells": [
  {
   "cell_type": "code",
   "execution_count": 1,
   "id": "aa2e413d-456b-48b7-925a-9ebce65ac6fc",
   "metadata": {},
   "outputs": [],
   "source": [
    "import pandas as pd\n",
    "import numpy as np\n",
    "import os"
   ]
  },
  {
   "cell_type": "code",
   "execution_count": 2,
   "id": "c0d6ecbe-8b2c-4b8d-a4db-a411d5451e52",
   "metadata": {},
   "outputs": [
    {
     "data": {
      "text/plain": [
       "'C:\\\\Users\\\\91705\\\\Desktop\\\\Projects\\\\Sentiment Analysis\\\\notebooks'"
      ]
     },
     "execution_count": 2,
     "metadata": {},
     "output_type": "execute_result"
    }
   ],
   "source": [
    "os.getcwd()"
   ]
  },
  {
   "cell_type": "code",
   "execution_count": 3,
   "id": "57d4e2ac-c446-412f-8a5e-53fb9191365b",
   "metadata": {},
   "outputs": [
    {
     "name": "stdout",
     "output_type": "stream",
     "text": [
      "C:\\Users\\91705\n",
      "C:\\Users\\91705\\Desktop\\Projects\\Sentiment Analysis\\data\\raw\\IMDB Dataset.csv\n"
     ]
    }
   ],
   "source": [
    "home_dir = os.path.expanduser('~')\n",
    "print(home_dir)\n",
    "\n",
    "csv_path = os.path.expanduser(r'~\\Desktop\\Projects\\Sentiment Analysis\\data\\raw\\IMDB Dataset.csv')\n",
    "print(csv_path)\n"
   ]
  },
  {
   "cell_type": "code",
   "execution_count": 4,
   "id": "a9155740-0df7-4dcf-b9c4-e1226a7b0c6a",
   "metadata": {},
   "outputs": [
    {
     "data": {
      "text/html": [
       "<div>\n",
       "<style scoped>\n",
       "    .dataframe tbody tr th:only-of-type {\n",
       "        vertical-align: middle;\n",
       "    }\n",
       "\n",
       "    .dataframe tbody tr th {\n",
       "        vertical-align: top;\n",
       "    }\n",
       "\n",
       "    .dataframe thead th {\n",
       "        text-align: right;\n",
       "    }\n",
       "</style>\n",
       "<table border=\"1\" class=\"dataframe\">\n",
       "  <thead>\n",
       "    <tr style=\"text-align: right;\">\n",
       "      <th></th>\n",
       "      <th>review</th>\n",
       "      <th>sentiment</th>\n",
       "    </tr>\n",
       "  </thead>\n",
       "  <tbody>\n",
       "    <tr>\n",
       "      <th>0</th>\n",
       "      <td>One of the other reviewers has mentioned that ...</td>\n",
       "      <td>positive</td>\n",
       "    </tr>\n",
       "    <tr>\n",
       "      <th>1</th>\n",
       "      <td>A wonderful little production. &lt;br /&gt;&lt;br /&gt;The...</td>\n",
       "      <td>positive</td>\n",
       "    </tr>\n",
       "    <tr>\n",
       "      <th>2</th>\n",
       "      <td>I thought this was a wonderful way to spend ti...</td>\n",
       "      <td>positive</td>\n",
       "    </tr>\n",
       "    <tr>\n",
       "      <th>3</th>\n",
       "      <td>Basically there's a family where a little boy ...</td>\n",
       "      <td>negative</td>\n",
       "    </tr>\n",
       "    <tr>\n",
       "      <th>4</th>\n",
       "      <td>Petter Mattei's \"Love in the Time of Money\" is...</td>\n",
       "      <td>positive</td>\n",
       "    </tr>\n",
       "    <tr>\n",
       "      <th>...</th>\n",
       "      <td>...</td>\n",
       "      <td>...</td>\n",
       "    </tr>\n",
       "    <tr>\n",
       "      <th>49995</th>\n",
       "      <td>I thought this movie did a down right good job...</td>\n",
       "      <td>positive</td>\n",
       "    </tr>\n",
       "    <tr>\n",
       "      <th>49996</th>\n",
       "      <td>Bad plot, bad dialogue, bad acting, idiotic di...</td>\n",
       "      <td>negative</td>\n",
       "    </tr>\n",
       "    <tr>\n",
       "      <th>49997</th>\n",
       "      <td>I am a Catholic taught in parochial elementary...</td>\n",
       "      <td>negative</td>\n",
       "    </tr>\n",
       "    <tr>\n",
       "      <th>49998</th>\n",
       "      <td>I'm going to have to disagree with the previou...</td>\n",
       "      <td>negative</td>\n",
       "    </tr>\n",
       "    <tr>\n",
       "      <th>49999</th>\n",
       "      <td>No one expects the Star Trek movies to be high...</td>\n",
       "      <td>negative</td>\n",
       "    </tr>\n",
       "  </tbody>\n",
       "</table>\n",
       "<p>50000 rows × 2 columns</p>\n",
       "</div>"
      ],
      "text/plain": [
       "                                                  review sentiment\n",
       "0      One of the other reviewers has mentioned that ...  positive\n",
       "1      A wonderful little production. <br /><br />The...  positive\n",
       "2      I thought this was a wonderful way to spend ti...  positive\n",
       "3      Basically there's a family where a little boy ...  negative\n",
       "4      Petter Mattei's \"Love in the Time of Money\" is...  positive\n",
       "...                                                  ...       ...\n",
       "49995  I thought this movie did a down right good job...  positive\n",
       "49996  Bad plot, bad dialogue, bad acting, idiotic di...  negative\n",
       "49997  I am a Catholic taught in parochial elementary...  negative\n",
       "49998  I'm going to have to disagree with the previou...  negative\n",
       "49999  No one expects the Star Trek movies to be high...  negative\n",
       "\n",
       "[50000 rows x 2 columns]"
      ]
     },
     "execution_count": 4,
     "metadata": {},
     "output_type": "execute_result"
    }
   ],
   "source": [
    "data = pd.read_csv(csv_path)\n",
    "data"
   ]
  },
  {
   "cell_type": "code",
   "execution_count": 5,
   "id": "2d5f0c5e-6289-4fe5-83c2-c65cd32d370e",
   "metadata": {},
   "outputs": [
    {
     "data": {
      "text/plain": [
       "418"
      ]
     },
     "execution_count": 5,
     "metadata": {},
     "output_type": "execute_result"
    }
   ],
   "source": [
    "data.duplicated().sum()"
   ]
  },
  {
   "cell_type": "code",
   "execution_count": 6,
   "id": "0275d476-a1e8-4482-b3c7-066709d14419",
   "metadata": {},
   "outputs": [
    {
     "data": {
      "text/plain": [
       "(49582, 2)"
      ]
     },
     "execution_count": 6,
     "metadata": {},
     "output_type": "execute_result"
    }
   ],
   "source": [
    "data = data.drop_duplicates(subset = 'review')\n",
    "data.shape"
   ]
  },
  {
   "cell_type": "code",
   "execution_count": 7,
   "id": "766dd310-94e4-462f-b459-8742fc99a3ff",
   "metadata": {},
   "outputs": [
    {
     "data": {
      "text/plain": [
       "0"
      ]
     },
     "execution_count": 7,
     "metadata": {},
     "output_type": "execute_result"
    }
   ],
   "source": [
    "data.duplicated().sum()"
   ]
  },
  {
   "cell_type": "code",
   "execution_count": 8,
   "id": "68c6570a-cda1-49ac-8b88-c5da393cb142",
   "metadata": {},
   "outputs": [
    {
     "data": {
      "text/plain": [
       "review       0\n",
       "sentiment    0\n",
       "dtype: int64"
      ]
     },
     "execution_count": 8,
     "metadata": {},
     "output_type": "execute_result"
    }
   ],
   "source": [
    "data.isna().sum() "
   ]
  },
  {
   "cell_type": "code",
   "execution_count": 9,
   "id": "47aa94f4-80e8-4f2b-911c-06d99c23e95e",
   "metadata": {},
   "outputs": [
    {
     "data": {
      "text/html": [
       "<div>\n",
       "<style scoped>\n",
       "    .dataframe tbody tr th:only-of-type {\n",
       "        vertical-align: middle;\n",
       "    }\n",
       "\n",
       "    .dataframe tbody tr th {\n",
       "        vertical-align: top;\n",
       "    }\n",
       "\n",
       "    .dataframe thead th {\n",
       "        text-align: right;\n",
       "    }\n",
       "</style>\n",
       "<table border=\"1\" class=\"dataframe\">\n",
       "  <thead>\n",
       "    <tr style=\"text-align: right;\">\n",
       "      <th></th>\n",
       "      <th>review</th>\n",
       "      <th>sentiment</th>\n",
       "    </tr>\n",
       "  </thead>\n",
       "  <tbody>\n",
       "    <tr>\n",
       "      <th>0</th>\n",
       "      <td>One of the other reviewers has mentioned that ...</td>\n",
       "      <td>positive</td>\n",
       "    </tr>\n",
       "    <tr>\n",
       "      <th>1</th>\n",
       "      <td>A wonderful little production. &lt;br /&gt;&lt;br /&gt;The...</td>\n",
       "      <td>positive</td>\n",
       "    </tr>\n",
       "    <tr>\n",
       "      <th>2</th>\n",
       "      <td>I thought this was a wonderful way to spend ti...</td>\n",
       "      <td>positive</td>\n",
       "    </tr>\n",
       "    <tr>\n",
       "      <th>3</th>\n",
       "      <td>Basically there's a family where a little boy ...</td>\n",
       "      <td>negative</td>\n",
       "    </tr>\n",
       "    <tr>\n",
       "      <th>4</th>\n",
       "      <td>Petter Mattei's \"Love in the Time of Money\" is...</td>\n",
       "      <td>positive</td>\n",
       "    </tr>\n",
       "    <tr>\n",
       "      <th>...</th>\n",
       "      <td>...</td>\n",
       "      <td>...</td>\n",
       "    </tr>\n",
       "    <tr>\n",
       "      <th>49577</th>\n",
       "      <td>I thought this movie did a down right good job...</td>\n",
       "      <td>positive</td>\n",
       "    </tr>\n",
       "    <tr>\n",
       "      <th>49578</th>\n",
       "      <td>Bad plot, bad dialogue, bad acting, idiotic di...</td>\n",
       "      <td>negative</td>\n",
       "    </tr>\n",
       "    <tr>\n",
       "      <th>49579</th>\n",
       "      <td>I am a Catholic taught in parochial elementary...</td>\n",
       "      <td>negative</td>\n",
       "    </tr>\n",
       "    <tr>\n",
       "      <th>49580</th>\n",
       "      <td>I'm going to have to disagree with the previou...</td>\n",
       "      <td>negative</td>\n",
       "    </tr>\n",
       "    <tr>\n",
       "      <th>49581</th>\n",
       "      <td>No one expects the Star Trek movies to be high...</td>\n",
       "      <td>negative</td>\n",
       "    </tr>\n",
       "  </tbody>\n",
       "</table>\n",
       "<p>49582 rows × 2 columns</p>\n",
       "</div>"
      ],
      "text/plain": [
       "                                                  review sentiment\n",
       "0      One of the other reviewers has mentioned that ...  positive\n",
       "1      A wonderful little production. <br /><br />The...  positive\n",
       "2      I thought this was a wonderful way to spend ti...  positive\n",
       "3      Basically there's a family where a little boy ...  negative\n",
       "4      Petter Mattei's \"Love in the Time of Money\" is...  positive\n",
       "...                                                  ...       ...\n",
       "49577  I thought this movie did a down right good job...  positive\n",
       "49578  Bad plot, bad dialogue, bad acting, idiotic di...  negative\n",
       "49579  I am a Catholic taught in parochial elementary...  negative\n",
       "49580  I'm going to have to disagree with the previou...  negative\n",
       "49581  No one expects the Star Trek movies to be high...  negative\n",
       "\n",
       "[49582 rows x 2 columns]"
      ]
     },
     "execution_count": 9,
     "metadata": {},
     "output_type": "execute_result"
    }
   ],
   "source": [
    "data = data.reset_index(drop=True)\n",
    "data"
   ]
  },
  {
   "cell_type": "code",
   "execution_count": 10,
   "id": "68140eba-5ea0-4444-9a6d-98e12675bb84",
   "metadata": {},
   "outputs": [
    {
     "name": "stdout",
     "output_type": "stream",
     "text": [
      "(49582, 2)\n"
     ]
    }
   ],
   "source": [
    "print(data.shape)"
   ]
  },
  {
   "cell_type": "markdown",
   "id": "4c0b20c1-7303-473f-b124-4c7d618cd8d8",
   "metadata": {},
   "source": [
    "## Text Cleaning"
   ]
  },
  {
   "cell_type": "code",
   "execution_count": 11,
   "id": "d1a0f956-13cb-4cd7-9b53-e92f069f486a",
   "metadata": {},
   "outputs": [],
   "source": [
    "import re\n",
    "\n",
    "def text_clean(text):\n",
    "    text = text.lower()\n",
    "    text = re.sub(r'<.*?>', '', text)           # Removing html tags\n",
    "    text = re.sub(r'[^a-zA-Z\\s]','', text)      # Removing punctuations and numbers\n",
    "    text = re.sub(r'\\s+', ' ', text).strip()    # Removed extra steps\n",
    "    return text"
   ]
  },
  {
   "cell_type": "code",
   "execution_count": 12,
   "id": "d77c5ce8-51a4-43b8-bc9c-57693bdcf634",
   "metadata": {},
   "outputs": [],
   "source": [
    "data['cleaned_reviews'] = data['review'].apply(text_clean)"
   ]
  },
  {
   "cell_type": "code",
   "execution_count": 13,
   "id": "e28720d5-f5d4-4a51-bc61-ffc2b02e5c62",
   "metadata": {},
   "outputs": [
    {
     "data": {
      "text/html": [
       "<div>\n",
       "<style scoped>\n",
       "    .dataframe tbody tr th:only-of-type {\n",
       "        vertical-align: middle;\n",
       "    }\n",
       "\n",
       "    .dataframe tbody tr th {\n",
       "        vertical-align: top;\n",
       "    }\n",
       "\n",
       "    .dataframe thead th {\n",
       "        text-align: right;\n",
       "    }\n",
       "</style>\n",
       "<table border=\"1\" class=\"dataframe\">\n",
       "  <thead>\n",
       "    <tr style=\"text-align: right;\">\n",
       "      <th></th>\n",
       "      <th>review</th>\n",
       "      <th>cleaned_reviews</th>\n",
       "    </tr>\n",
       "  </thead>\n",
       "  <tbody>\n",
       "    <tr>\n",
       "      <th>0</th>\n",
       "      <td>One of the other reviewers has mentioned that ...</td>\n",
       "      <td>one of the other reviewers has mentioned that ...</td>\n",
       "    </tr>\n",
       "    <tr>\n",
       "      <th>1</th>\n",
       "      <td>A wonderful little production. &lt;br /&gt;&lt;br /&gt;The...</td>\n",
       "      <td>a wonderful little production the filming tech...</td>\n",
       "    </tr>\n",
       "    <tr>\n",
       "      <th>2</th>\n",
       "      <td>I thought this was a wonderful way to spend ti...</td>\n",
       "      <td>i thought this was a wonderful way to spend ti...</td>\n",
       "    </tr>\n",
       "    <tr>\n",
       "      <th>3</th>\n",
       "      <td>Basically there's a family where a little boy ...</td>\n",
       "      <td>basically theres a family where a little boy j...</td>\n",
       "    </tr>\n",
       "    <tr>\n",
       "      <th>4</th>\n",
       "      <td>Petter Mattei's \"Love in the Time of Money\" is...</td>\n",
       "      <td>petter matteis love in the time of money is a ...</td>\n",
       "    </tr>\n",
       "  </tbody>\n",
       "</table>\n",
       "</div>"
      ],
      "text/plain": [
       "                                              review  \\\n",
       "0  One of the other reviewers has mentioned that ...   \n",
       "1  A wonderful little production. <br /><br />The...   \n",
       "2  I thought this was a wonderful way to spend ti...   \n",
       "3  Basically there's a family where a little boy ...   \n",
       "4  Petter Mattei's \"Love in the Time of Money\" is...   \n",
       "\n",
       "                                     cleaned_reviews  \n",
       "0  one of the other reviewers has mentioned that ...  \n",
       "1  a wonderful little production the filming tech...  \n",
       "2  i thought this was a wonderful way to spend ti...  \n",
       "3  basically theres a family where a little boy j...  \n",
       "4  petter matteis love in the time of money is a ...  "
      ]
     },
     "execution_count": 13,
     "metadata": {},
     "output_type": "execute_result"
    }
   ],
   "source": [
    "data[['review','cleaned_reviews']].head()"
   ]
  },
  {
   "cell_type": "markdown",
   "id": "46a54f1a-564b-4e0a-94a5-be708b2ebe2c",
   "metadata": {},
   "source": [
    "## Tokenization"
   ]
  },
  {
   "cell_type": "code",
   "execution_count": 14,
   "id": "18632de1-ff94-4293-8634-a9acfca134d4",
   "metadata": {},
   "outputs": [],
   "source": [
    "from nltk.tokenize import word_tokenize\n",
    "\n",
    "data['tokens'] = data['cleaned_reviews'].apply(word_tokenize)"
   ]
  },
  {
   "cell_type": "code",
   "execution_count": 15,
   "id": "af869d61-a001-4a94-86c6-7462a39e0c0d",
   "metadata": {},
   "outputs": [
    {
     "data": {
      "text/plain": [
       "0        [one, of, the, other, reviewers, has, mentione...\n",
       "1        [a, wonderful, little, production, the, filmin...\n",
       "2        [i, thought, this, was, a, wonderful, way, to,...\n",
       "3        [basically, theres, a, family, where, a, littl...\n",
       "4        [petter, matteis, love, in, the, time, of, mon...\n",
       "                               ...                        \n",
       "49577    [i, thought, this, movie, did, a, down, right,...\n",
       "49578    [bad, plot, bad, dialogue, bad, acting, idioti...\n",
       "49579    [i, am, a, catholic, taught, in, parochial, el...\n",
       "49580    [im, going, to, have, to, disagree, with, the,...\n",
       "49581    [no, one, expects, the, star, trek, movies, to...\n",
       "Name: tokens, Length: 49582, dtype: object"
      ]
     },
     "execution_count": 15,
     "metadata": {},
     "output_type": "execute_result"
    }
   ],
   "source": [
    "data['tokens']"
   ]
  },
  {
   "cell_type": "markdown",
   "id": "e3623c06-5652-407b-a441-a42e8deab5a2",
   "metadata": {},
   "source": [
    "## Stopwords Removal"
   ]
  },
  {
   "cell_type": "code",
   "execution_count": 16,
   "id": "5163b94b-5830-45d4-960f-6e38e22e1c17",
   "metadata": {},
   "outputs": [],
   "source": [
    "from nltk.corpus import stopwords\n",
    "\n",
    "stop_words = set(stopwords.words('english'))"
   ]
  },
  {
   "cell_type": "markdown",
   "id": "9ee3480f-e9cf-4cee-9607-241c886b9ad3",
   "metadata": {},
   "source": [
    "In Natural Language Processing (NLP), stop words are common words (like \"the\", \"a\", \"is\") that are often removed from text data because they don't carry significant meaning for many NLP tasks. This process, known as stop word removal, can improve the efficiency and accuracy of subsequent analysis.\n",
    "\n",
    "Examples of stop words:\n",
    "- Articles: \"a\", \"an\", \"the\"\n",
    "- Conjunctions: \"and\", \"but\", \"or\"\n",
    "- Prepositions: \"in\", \"on\", \"at\", \"with\"\n",
    "- Pronouns: \"he\", \"she\", \"it\", \"they\"\n",
    "- Common verbs: \"is\", \"am\", \"are\", \"was\", \"were\" "
   ]
  },
  {
   "cell_type": "code",
   "execution_count": 17,
   "id": "f1628948-4f36-46a0-8f2e-ee348d90f3f8",
   "metadata": {},
   "outputs": [
    {
     "data": {
      "text/plain": [
       "0        [one, reviewers, mentioned, watching, oz, epis...\n",
       "1        [wonderful, little, production, filming, techn...\n",
       "2        [thought, wonderful, way, spend, time, hot, su...\n",
       "3        [basically, theres, family, little, boy, jake,...\n",
       "4        [petter, matteis, love, time, money, visually,...\n",
       "                               ...                        \n",
       "49577    [thought, movie, right, good, job, wasnt, crea...\n",
       "49578    [bad, plot, bad, dialogue, bad, acting, idioti...\n",
       "49579    [catholic, taught, parochial, elementary, scho...\n",
       "49580    [im, going, disagree, previous, comment, side,...\n",
       "49581    [one, expects, star, trek, movies, high, art, ...\n",
       "Name: tokens, Length: 49582, dtype: object"
      ]
     },
     "execution_count": 17,
     "metadata": {},
     "output_type": "execute_result"
    }
   ],
   "source": [
    "data['tokens'] = data['tokens'].apply(lambda tokens: [word for word in tokens if word not in stop_words])\n",
    "data['tokens']"
   ]
  },
  {
   "cell_type": "code",
   "execution_count": 18,
   "id": "f38f8620-29dc-4b4f-9816-c2f0bd81927d",
   "metadata": {},
   "outputs": [
    {
     "data": {
      "text/plain": [
       "0        one reviewers mentioned watching oz episode yo...\n",
       "1        wonderful little production filming technique ...\n",
       "2        thought wonderful way spend time hot summer we...\n",
       "3        basically theres family little boy jake thinks...\n",
       "4        petter matteis love time money visually stunni...\n",
       "                               ...                        \n",
       "49577    thought movie right good job wasnt creative or...\n",
       "49578    bad plot bad dialogue bad acting idiotic direc...\n",
       "49579    catholic taught parochial elementary schools n...\n",
       "49580    im going disagree previous comment side maltin...\n",
       "49581    one expects star trek movies high art fans exp...\n",
       "Name: final_text, Length: 49582, dtype: object"
      ]
     },
     "execution_count": 18,
     "metadata": {},
     "output_type": "execute_result"
    }
   ],
   "source": [
    "data['final_text'] = data['tokens'].apply(lambda tokens: ' '.join(tokens))\n",
    "data['final_text']"
   ]
  },
  {
   "cell_type": "code",
   "execution_count": 19,
   "id": "5ca1f664-8aef-4ff7-9f1b-9489d3a0f067",
   "metadata": {},
   "outputs": [],
   "source": [
    "from sklearn.feature_extraction.text import TfidfVectorizer\n",
    "\n",
    "vectorizer = TfidfVectorizer(max_features=5000)\n",
    "X = vectorizer.fit_transform(data['final_text']).toarray()\n",
    "\n",
    "y = data['sentiment'].apply(lambda x: 1 if x == 'positive' else 0).values"
   ]
  },
  {
   "cell_type": "code",
   "execution_count": 29,
   "id": "241c0216-306c-4f2e-96b7-6acb8a74f441",
   "metadata": {},
   "outputs": [
    {
     "data": {
      "text/plain": [
       "array([[0., 0., 0., ..., 0., 0., 0.],\n",
       "       [0., 0., 0., ..., 0., 0., 0.],\n",
       "       [0., 0., 0., ..., 0., 0., 0.],\n",
       "       ...,\n",
       "       [0., 0., 0., ..., 0., 0., 0.],\n",
       "       [0., 0., 0., ..., 0., 0., 0.],\n",
       "       [0., 0., 0., ..., 0., 0., 0.]])"
      ]
     },
     "execution_count": 29,
     "metadata": {},
     "output_type": "execute_result"
    }
   ],
   "source": [
    "X"
   ]
  },
  {
   "cell_type": "code",
   "execution_count": 30,
   "id": "9fe74e6e-8b01-4d32-8386-58f0ba7c7703",
   "metadata": {},
   "outputs": [
    {
     "data": {
      "text/plain": [
       "array([1, 1, 1, ..., 0, 0, 0], dtype=int64)"
      ]
     },
     "execution_count": 30,
     "metadata": {},
     "output_type": "execute_result"
    }
   ],
   "source": [
    "y"
   ]
  },
  {
   "cell_type": "code",
   "execution_count": 31,
   "id": "56911017-2f4a-452a-ad26-9b0ebc7b4985",
   "metadata": {},
   "outputs": [],
   "source": [
    "from scipy import sparse\n",
    "X_sparse = sparse.csr_matrix(X)\n",
    "\n",
    "# sparse.save_npz('C:/Users/91705//Desktop/Projects/Sentiment Analysis/data/processed/x_data_sparse.npz', X)"
   ]
  },
  {
   "cell_type": "code",
   "execution_count": 32,
   "id": "9263aa98-201f-4e26-8b75-80ab21a70acf",
   "metadata": {},
   "outputs": [],
   "source": [
    "import joblib\n",
    "\n",
    "def save_processed_data(X, filname):\n",
    "    \"\"\"Saves data with automatic path handling\"\"\"\n",
    "    expanded_path = os.path.expanduser(filname)\n",
    "    os.makedirs(os.path.dirname(expanded_path), exist_ok = True)\n",
    "    joblib.dump(X, expanded_path)\n",
    "\n",
    "\n",
    "save_processed_data(X_sparse, '~/Desktop/Projects/Sentiment Analysis/data/processed/X_data.pkl')\n",
    "# save_processed_data(y, '~/Desktop/Projects/Sentiment Analysis/data/processed/y_data.pkl')\n",
    "# save_processed_data(vectorizer, '~/Desktop/Projects/Sentiment Analysis/data/processed/tf_idf_vectorizer.pkl')\n",
    "\n"
   ]
  },
  {
   "cell_type": "code",
   "execution_count": 33,
   "id": "feb1312f-e66b-4482-ab49-342df4ce4b36",
   "metadata": {},
   "outputs": [
    {
     "name": "stdout",
     "output_type": "stream",
     "text": [
      "Size of x_data.pkl: 43.93 MB\n"
     ]
    }
   ],
   "source": [
    "import os\n",
    "\n",
    "# filePath = os.path.expanduser('C:/Users/91705/')\n",
    "size_in_mb = os.path.getsize('C:/Users/91705//Desktop/Projects/Sentiment Analysis/data/processed/x_data.pkl') / (1024 * 1024)\n",
    "print(f\"Size of x_data.pkl: {size_in_mb:.2f} MB\")\n"
   ]
  },
  {
   "cell_type": "code",
   "execution_count": null,
   "id": "ca5e6241-3131-40f1-85c5-6f177a81420e",
   "metadata": {},
   "outputs": [],
   "source": []
  }
 ],
 "metadata": {
  "kernelspec": {
   "display_name": "Python 3 (ipykernel)",
   "language": "python",
   "name": "python3"
  },
  "language_info": {
   "codemirror_mode": {
    "name": "ipython",
    "version": 3
   },
   "file_extension": ".py",
   "mimetype": "text/x-python",
   "name": "python",
   "nbconvert_exporter": "python",
   "pygments_lexer": "ipython3",
   "version": "3.11.5"
  }
 },
 "nbformat": 4,
 "nbformat_minor": 5
}
